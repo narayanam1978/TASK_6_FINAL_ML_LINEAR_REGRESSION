{
 "cells": [
  {
   "cell_type": "code",
   "execution_count": null,
   "metadata": {},
   "outputs": [],
   "source": [
    "######################## TASK 4 ###################### RANGANADH NARAYANAM ############################"
   ]
  },
  {
   "cell_type": "code",
   "execution_count": 2,
   "metadata": {},
   "outputs": [],
   "source": [
    "import numpy as np\n",
    "phi = np.loadtxt('train.csv', dtype='float', delimiter=',', skiprows=1,\n",
    "                 usecols=tuple(range(1, 14)))\n",
    "y = np.loadtxt('train.csv', dtype='float', delimiter=',', skiprows=1,\n",
    "               usecols=14, ndmin=2)\n",
    "phi_test = np.loadtxt('test.csv', dtype='float', delimiter=',',\n",
    "                      skiprows=1, usecols=tuple(range(1, 14)))\n",
    "phi_test = np.concatenate((phi_test, np.ones((105, 1))), axis=1)\n",
    "phi = np.concatenate((phi, np.ones((400, 1))), axis=1)\n",
    "for i in range(0, 13):\n",
    "    col_max = max(phi[:, i])\n",
    "    col_min = min(phi[:, i])\n",
    "    phi[:, i] = (phi[:, i] - col_min) / (col_max - col_min)\n",
    "    phi_test[:, i] = (phi_test[:, i] - col_min) / (col_max - col_min)\n",
    "y = np.log(y)\n",
    "def delta_w(p, phi, w):\n",
    "    if p == 2:\n",
    "        deltaw = (2 * (np.dot(np.dot(np.transpose(phi), phi), w) -\n",
    "                       np.dot(np.transpose(phi), y)) +\n",
    "                  lambd * p * np.power(np.absolute(w), (p - 1)))\n",
    "    if p < 2 and p > 1:\n",
    "        deltaw = (2 * (np.dot(np.dot(np.transpose(phi), phi), w) -\n",
    "                       np.dot(np.transpose(phi), y)) +\n",
    "                  lambd * p * np.power(np.absolute(w), (p - 1)) * np.sign(w))\n",
    "    return deltaw\n",
    "filenames = {'output.csv': 2.0,\n",
    "             'output_p1.csv': 1.75,\n",
    "             'output_p2.csv': 1.5,\n",
    "             'output_p3.csv': 1.3\n",
    "             }\n",
    "for (fname, p) in filenames.items():\n",
    "    w = np.zeros((14, 1))\n",
    "    lambd = 0.2\n",
    "    t = 0.00012\n",
    "    w_new = w - t * delta_w(p, phi, w)\n",
    "for (fname, p) in filenames.items():\n",
    "    w = np.zeros((14, 1))\n",
    "    lambd = 0.2\n",
    "    t = 0.00012\n",
    "    w_new = w - t * delta_w(p, phi, w)\n",
    "    i = 0\n",
    "    while(np.linalg.norm(w_new-w) > 10 ** -10):\n",
    "        w = w_new\n",
    "        w_new = w - t * delta_w(p, phi, w)\n",
    "        i = i + 1\n",
    "    id_test = np.loadtxt('test.csv', dtype='int', delimiter=',',\n",
    "                         skiprows=1, usecols=0, ndmin=2)\n",
    "    y_test = np.exp(np.dot(phi_test, w_new))\n",
    "    np.savetxt(fname, np.concatenate((id_test, y_test), axis=1),\n",
    "               delimiter=',', fmt=['%d', '%f'], header='ID,MEDV', comments='')"
   ]
  },
  {
   "cell_type": "code",
   "execution_count": null,
   "metadata": {},
   "outputs": [],
   "source": []
  }
 ],
 "metadata": {
  "kernelspec": {
   "display_name": "Python 3",
   "language": "python",
   "name": "python3"
  },
  "language_info": {
   "codemirror_mode": {
    "name": "ipython",
    "version": 3
   },
   "file_extension": ".py",
   "mimetype": "text/x-python",
   "name": "python",
   "nbconvert_exporter": "python",
   "pygments_lexer": "ipython3",
   "version": "3.8.5"
  }
 },
 "nbformat": 4,
 "nbformat_minor": 4
}
