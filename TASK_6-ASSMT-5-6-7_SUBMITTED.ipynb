{
 "cells": [
  {
   "cell_type": "code",
   "execution_count": null,
   "metadata": {},
   "outputs": [],
   "source": [
    "############################### TASK_6-ASSMT-5-6-7   RANGANADH NARAYANAM ####################################################"
   ]
  },
  {
   "cell_type": "code",
   "execution_count": null,
   "metadata": {},
   "outputs": [],
   "source": [
    "#ASSIGNMENT - 5   Ground Cricket Chirps\n",
    "############################# ASSIGNMENT 5 #######################################################\n",
    "###################### ground_cricket_data : Chirps/Second VS Ground Temperature #################"
   ]
  },
  {
   "cell_type": "code",
   "execution_count": 1,
   "metadata": {},
   "outputs": [],
   "source": [
    "import itertools as it\n",
    "import matplotlib.pyplot as plt\n",
    "import numpy as np\n",
    "import pandas as pd\n",
    "from sklearn import linear_model\n",
    "from copy import deepcopy\n",
    "%matplotlib inline"
   ]
  },
  {
   "cell_type": "code",
   "execution_count": null,
   "metadata": {},
   "outputs": [],
   "source": [
    "#################################### Ground Cricket Chirps #############################################"
   ]
  },
  {
   "cell_type": "code",
   "execution_count": 3,
   "metadata": {},
   "outputs": [],
   "source": [
    "ground_cricket_data = {\"Chirps/Second\": [20.0, 16.0, 19.8, 18.4, 17.1, 15.5, 14.7,\n",
    "                                         15.7, 15.4, 16.3, 15.0, 17.2, 16.0, 17.0,\n",
    "                                         14.4],\n",
    "                       \"Ground Temperature\": [88.6, 71.6, 93.3, 84.3, 80.6, 75.2, 69.7,\n",
    "                                              71.6, 69.4, 83.3, 79.6, 82.6, 80.6, 83.5,\n",
    "                                              76.3]}\n",
    "df_gc = pd.DataFrame(ground_cricket_data)"
   ]
  },
  {
   "cell_type": "code",
   "execution_count": 5,
   "metadata": {},
   "outputs": [
    {
     "data": {
      "text/plain": [
       "LinearRegression()"
      ]
     },
     "execution_count": 5,
     "metadata": {},
     "output_type": "execute_result"
    }
   ],
   "source": [
    "r_gc = linear_model.LinearRegression() \n",
    "gt = df_gc[['Ground Temperature']] \n",
    "cs = df_gc['Chirps/Second']         \n",
    "r_gc.fit(gt, cs)"
   ]
  },
  {
   "cell_type": "code",
   "execution_count": null,
   "metadata": {},
   "outputs": [],
   "source": [
    "#TASK 1"
   ]
  },
  {
   "cell_type": "code",
   "execution_count": 7,
   "metadata": {},
   "outputs": [
    {
     "name": "stdout",
     "output_type": "stream",
     "text": [
      "Ground cricket chirps Linear Regression Equation: y = 0.2030 * x + 0.4593\n"
     ]
    }
   ],
   "source": [
    "print('Ground cricket chirps Linear Regression Equation: y = {:.4f} * x + {:.4f}'\n",
    "      .format(r_gc.coef_[0], r_gc.intercept_))"
   ]
  },
  {
   "cell_type": "code",
   "execution_count": null,
   "metadata": {},
   "outputs": [],
   "source": [
    "#Task 2"
   ]
  },
  {
   "cell_type": "code",
   "execution_count": 8,
   "metadata": {},
   "outputs": [
    {
     "data": {
      "image/png": "[encoded data removed]",
      "text/plain": [
       "<Figure size 432x288 with 1 Axes>"
      ]
     },
     "metadata": {
      "needs_background": "light"
     },
     "output_type": "display_data"
    }
   ],
   "source": [
    "plt.scatter(gt, cs, color='g')\n",
    "plt.plot(gt, r_gc.predict(gt))\n",
    "plt.title('Ground Cricket Chirps/Sec by Ground Temperature')\n",
    "plt.xlabel('Ground Temp (˚F)')\n",
    "plt.ylabel('Chirps/Sec')\n",
    "plt.show()"
   ]
  },
  {
   "cell_type": "code",
   "execution_count": null,
   "metadata": {},
   "outputs": [],
   "source": [
    "#Task 3"
   ]
  },
  {
   "cell_type": "code",
   "execution_count": 10,
   "metadata": {},
   "outputs": [
    {
     "name": "stdout",
     "output_type": "stream",
     "text": [
      "R^2 score for this linear regression equation: 0.6923\n"
     ]
    }
   ],
   "source": [
    "print('R^2 score for this linear regression equation: {:.4f}'\n",
    "      .format(r_gc.score(gt, cs)))"
   ]
  },
  {
   "cell_type": "code",
   "execution_count": 11,
   "metadata": {},
   "outputs": [
    {
     "name": "stdout",
     "output_type": "stream",
     "text": [
      "0.6922946529146998   :As this is below 0.8, this is not a good fit for this data\n"
     ]
    }
   ],
   "source": [
    "if(r_gc.score(gt, cs) < 0.8):\n",
    "    print(r_gc.score(gt, cs),\"  :As this is below 0.8, this is not a good fit for this data\")\n",
    "else:\n",
    "    print(\"yes it is a best fit\")"
   ]
  },
  {
   "cell_type": "code",
   "execution_count": 12,
   "metadata": {},
   "outputs": [],
   "source": [
    "#Task 5"
   ]
  },
  {
   "cell_type": "code",
   "execution_count": 18,
   "metadata": {},
   "outputs": [],
   "source": [
    "def CHIRPSPERSEC_TO_TEMPERATURE(CPST):\n",
    "    Nr = (CPST - r_gc.intercept_)\n",
    "    Dr = (r_gc.coef_[0])\n",
    "    R = Nr/Dr\n",
    "    print(\"for every examination of {} chirps/sec, we can expect a ground temerature of {:0.4f} degree Foreinheat\".format(CPST,R))\n"
   ]
  },
  {
   "cell_type": "code",
   "execution_count": 20,
   "metadata": {},
   "outputs": [
    {
     "name": "stdout",
     "output_type": "stream",
     "text": [
      "for every examination of 19 chirps/sec, we can expect a ground temerature of 91.3335 degree Foreinheat\n"
     ]
    }
   ],
   "source": [
    "CHIRPSPERSEC_TO_TEMPERATURE(19)\n"
   ]
  },
  {
   "cell_type": "code",
   "execution_count": null,
   "metadata": {},
   "outputs": [],
   "source": [
    "################################### ASSIGNMENT - 6 #####################################################\n",
    "################################### Brain vs. Body Weight ##############################################\n"
   ]
  },
  {
   "cell_type": "code",
   "execution_count": 21,
   "metadata": {},
   "outputs": [],
   "source": [
    "import pandas as pd\n",
    "df_bb = pd.read_fwf(\"brain_body.txt\")"
   ]
  },
  {
   "cell_type": "code",
   "execution_count": 23,
   "metadata": {},
   "outputs": [
    {
     "data": {
      "text/plain": [
       "LinearRegression()"
      ]
     },
     "execution_count": 23,
     "metadata": {},
     "output_type": "execute_result"
    }
   ],
   "source": [
    "import sklearn\n",
    "from sklearn import linear_model\n",
    "r_bb = linear_model.LinearRegression()\n",
    "body = df_bb[['Body']]\n",
    "brain = df_bb['Brain']\n",
    "r_bb.fit(body, brain)"
   ]
  },
  {
   "cell_type": "code",
   "execution_count": null,
   "metadata": {},
   "outputs": [],
   "source": [
    "#################### TASK - 1 ############################################"
   ]
  },
  {
   "cell_type": "code",
   "execution_count": 26,
   "metadata": {},
   "outputs": [
    {
     "name": "stdout",
     "output_type": "stream",
     "text": [
      "The Linear Regression Equation for the given data: y = 0.90291 * x + (-56.85555)\n"
     ]
    }
   ],
   "source": [
    "print('The Linear Regression Equation for the given data: y = {:.5f} * x + ({:.5f})'\n",
    "      .format(r_bb.coef_[0], r_bb.intercept_))"
   ]
  },
  {
   "cell_type": "code",
   "execution_count": 27,
   "metadata": {},
   "outputs": [],
   "source": [
    "#################### TASK - 2 ############################################"
   ]
  },
  {
   "cell_type": "code",
   "execution_count": 31,
   "metadata": {},
   "outputs": [
    {
     "data": {
      "image/png": "[encoded data removed]",
      "text/plain": [
       "<Figure size 432x288 with 1 Axes>"
      ]
     },
     "metadata": {
      "needs_background": "light"
     },
     "output_type": "display_data"
    }
   ],
   "source": [
    "import matplotlib.pyplot as plt\n",
    "\n",
    "plt.scatter(body, brain, color='g')\n",
    "plt.plot(body, r_bb.predict(body))\n",
    "plt.title('Brain Weight VS Body Weight')\n",
    "plt.xlabel('Body Weight')\n",
    "plt.ylabel('Brain Weight')\n",
    "plt.show()"
   ]
  },
  {
   "cell_type": "code",
   "execution_count": null,
   "metadata": {},
   "outputs": [],
   "source": [
    "#################### TASK - 3 ############################################"
   ]
  },
  {
   "cell_type": "code",
   "execution_count": 32,
   "metadata": {},
   "outputs": [
    {
     "name": "stdout",
     "output_type": "stream",
     "text": [
      "R^2 score for this linear regression equation is: 0.87266\n"
     ]
    }
   ],
   "source": [
    "print('R^2 score for this linear regression equation is: {:.5f}'\n",
    "      .format(r_bb.score(body, brain)))"
   ]
  },
  {
   "cell_type": "code",
   "execution_count": 34,
   "metadata": {},
   "outputs": [
    {
     "name": "stdout",
     "output_type": "stream",
     "text": [
      "This score is greater than 0.8, so it is a best fit for the given data.\n"
     ]
    }
   ],
   "source": [
    "if(r_bb.score(body, brain) > 0.8):\n",
    "    print(\"This score is greater than 0.8, so it is a best fit for the given data.\")\n",
    "else:\n",
    "    print(\"its a bad fit\")"
   ]
  },
  {
   "cell_type": "code",
   "execution_count": null,
   "metadata": {},
   "outputs": [],
   "source": []
  },
  {
   "cell_type": "code",
   "execution_count": 35,
   "metadata": {},
   "outputs": [],
   "source": [
    "###########     ASSIGNMENT - 7   #############################\n",
    "###########     SALARY DISCRIMINATION    #############################"
   ]
  },
  {
   "cell_type": "code",
   "execution_count": 165,
   "metadata": {},
   "outputs": [],
   "source": [
    "df_sd = pd.read_fwf(\"salary.txt\", header=None, \n",
    "                 names=[\"Sex\", \"Rank\", \"Year\", \"Degree\", \"YSdeg\", \"Salary\"])"
   ]
  },
  {
   "cell_type": "code",
   "execution_count": 166,
   "metadata": {},
   "outputs": [],
   "source": [
    "salary_discrim_cols = ['Sex', 'Rank', 'Year', 'Degree', 'YSdeg']"
   ]
  },
  {
   "cell_type": "code",
   "execution_count": 167,
   "metadata": {},
   "outputs": [],
   "source": [
    "def LINEAR_REG_EQU(salary_discrim_cols, df):\n",
    "    input_cols = df[salary_discrim_cols]\n",
    "    salary = df['Salary']\n",
    "    r_sd = linear_model.LinearRegression()\n",
    "    r_sd.fit(input_cols, salary)\n",
    "    print('The equation for columns {} with respect to Salary:\\n'\n",
    "          '{} + {}'.format(salary_discrim_cols, r_sd.coef_, r_sd.intercept_))"
   ]
  },
  {
   "cell_type": "code",
   "execution_count": 168,
   "metadata": {},
   "outputs": [],
   "source": [
    "######################### Task 1 ###############################################"
   ]
  },
  {
   "cell_type": "code",
   "execution_count": 169,
   "metadata": {},
   "outputs": [
    {
     "name": "stdout",
     "output_type": "stream",
     "text": [
      "The equation for columns ['Sex', 'Rank', 'Year', 'Degree', 'YSdeg'] with respect to Salary:\n",
      "[ 1241.7924996   5586.18144952   482.85976783 -1331.64406341\n",
      "  -128.79057354] + 11410.146547255557\n"
     ]
    }
   ],
   "source": [
    "LINEAR_REG_EQU(salary_discrim_cols, df_sd)"
   ]
  },
  {
   "cell_type": "code",
   "execution_count": 170,
   "metadata": {},
   "outputs": [],
   "source": [
    "######################### Task 2 ###############################################"
   ]
  },
  {
   "cell_type": "code",
   "execution_count": 171,
   "metadata": {},
   "outputs": [],
   "source": [
    "def LINREG_WRT_FOCUS(salary_discrim_cols, df, focus='Salary'):\n",
    "    input_cols = df[salary_discrim_cols]\n",
    "    focus_output = df[focus]\n",
    "    regr_sd = linear_model.LinearRegression()\n",
    "    regr_sd.fit(input_cols, focus_output)\n",
    "    return regr_sd.score(input_cols, focus_output)"
   ]
  },
  {
   "cell_type": "code",
   "execution_count": 172,
   "metadata": {},
   "outputs": [],
   "source": [
    "RESULT = LINREG_WRT_FOCUS(salary_discrim_cols, df_sd)\n"
   ]
  },
  {
   "cell_type": "code",
   "execution_count": 173,
   "metadata": {},
   "outputs": [
    {
     "name": "stdout",
     "output_type": "stream",
     "text": [
      "R^2 score for Regression equation using all columns: 0.8547180674410969\n"
     ]
    }
   ],
   "source": [
    "print('R^2 score for Regression equation using all columns: {}'\n",
    "      .format(RESULT))"
   ]
  },
  {
   "cell_type": "code",
   "execution_count": 174,
   "metadata": {},
   "outputs": [],
   "source": [
    "def COMBOS(cols):\n",
    "    return [it.combinations(cols, n + 1) for n in range(len(cols))]"
   ]
  },
  {
   "cell_type": "code",
   "execution_count": 175,
   "metadata": {},
   "outputs": [],
   "source": [
    "import itertools as it\n",
    "combos = COMBOS(salary_discrim_cols)"
   ]
  },
  {
   "cell_type": "code",
   "execution_count": 176,
   "metadata": {},
   "outputs": [],
   "source": [
    "def SCORECOMBO_ALL(combos, df, focus='Salary'):\n",
    "    combo_scores = {}\n",
    "    for m in range(len(list(combos))):\n",
    "        for n in list(combos[m]):\n",
    "            combo_scores[LINREG_WRT_FOCUS(list(n), df, focus)] = n\n",
    "    return combo_scores"
   ]
  },
  {
   "cell_type": "code",
   "execution_count": 177,
   "metadata": {},
   "outputs": [
    {
     "data": {
      "text/plain": [
       "[(0.8547180674410969, ('Sex', 'Rank', 'Year', 'Degree', 'YSdeg')),\n",
       " (0.8490366192262851, ('Sex', 'Rank', 'Year', 'YSdeg')),\n",
       " (0.8485077204335425, ('Rank', 'Year', 'Degree', 'YSdeg')),\n",
       " (0.8456725764485595, ('Rank', 'Year', 'YSdeg')),\n",
       " (0.8455476412979361, ('Sex', 'Rank', 'Year', 'Degree')),\n",
       " (0.8454319861987165, ('Sex', 'Rank', 'Year')),\n",
       " (0.8437395200874138, ('Rank', 'Year', 'Degree')),\n",
       " (0.8436480933264597, ('Rank', 'Year')),\n",
       " (0.7671813414350667, ('Sex', 'Rank', 'Degree', 'YSdeg')),\n",
       " (0.7666122610227071, ('Sex', 'Rank', 'YSdeg')),\n",
       " (0.7625149185326454, ('Rank', 'Degree', 'YSdeg')),\n",
       " (0.7623948189698249, ('Rank', 'YSdeg')),\n",
       " (0.7583144768153613, ('Sex', 'Rank', 'Degree')),\n",
       " (0.7557961688386642, ('Rank', 'Degree')),\n",
       " (0.7554917749443394, ('Sex', 'Rank')),\n",
       " (0.7525360539274633, ('Rank',)),\n",
       " (0.6311597502907436, ('Sex', 'Year', 'Degree', 'YSdeg')),\n",
       " (0.6236261611533502, ('Year', 'Degree', 'YSdeg')),\n",
       " (0.5832708257660315, ('Sex', 'Degree', 'YSdeg')),\n",
       " (0.5808063918180405, ('Sex', 'Year', 'YSdeg')),\n",
       " (0.5782019226431887, ('Year', 'YSdeg')),\n",
       " (0.5409662288237875, ('Degree', 'YSdeg')),\n",
       " (0.4930479271966782, ('Sex', 'YSdeg')),\n",
       " (0.49207944757472966, ('Sex', 'Year', 'Degree')),\n",
       " (0.4919014149016442, ('Year', 'Degree')),\n",
       " (0.4911360941886387, ('Sex', 'Year')),\n",
       " (0.49093702676921624, ('Year',)),\n",
       " (0.45542813458360276, ('YSdeg',)),\n",
       " (0.06643739842018881, ('Sex', 'Degree')),\n",
       " (0.06389892583288004, ('Sex',)),\n",
       " (0.004861680984748373, ('Degree',))]"
      ]
     },
     "execution_count": 177,
     "metadata": {},
     "output_type": "execute_result"
    }
   ],
   "source": [
    "combo_scores = SCORECOMBO_ALL(combos, df_sd)\n",
    "sorted(combo_scores.items(), key=lambda c: c[0], reverse=True)"
   ]
  },
  {
   "cell_type": "code",
   "execution_count": 178,
   "metadata": {},
   "outputs": [],
   "source": [
    "###################### TASK 3 #######################3"
   ]
  },
  {
   "cell_type": "code",
   "execution_count": 179,
   "metadata": {},
   "outputs": [
    {
     "name": "stdout",
     "output_type": "stream",
     "text": [
      "NUMBER OF MEN: 38\n",
      "NUMBER OF WOMEN: 14\n"
     ]
    }
   ],
   "source": [
    "NUM_OF_PERSONS_BY_SEX = df_sd.Sex.value_counts()\n",
    "print('NUMBER OF MEN: {}\\nNUMBER OF WOMEN: {}'.format(NUM_OF_PERSONS_BY_SEX[0], NUM_OF_PERSONS_BY_SEX[1]))"
   ]
  },
  {
   "cell_type": "code",
   "execution_count": 180,
   "metadata": {},
   "outputs": [
    {
     "data": {
      "image/png": "[encoded data removed]",
      "text/plain": [
       "<Figure size 432x288 with 1 Axes>"
      ]
     },
     "metadata": {
      "needs_background": "light"
     },
     "output_type": "display_data"
    }
   ],
   "source": [
    "df_sd.pivot_table(index=df_sd.index, columns='Sex', values='Salary') \\\n",
    "    .plot(kind='hist', alpha=0.9, stacked=True, bins=30, title='SALARY BY SEX')\n",
    "plt.xlabel('DOLLARS')\n",
    "plt.ylabel('FACULTY')\n",
    "plt.show()"
   ]
  },
  {
   "cell_type": "code",
   "execution_count": 181,
   "metadata": {},
   "outputs": [
    {
     "data": {
      "image/png": "[encoded data removed]",
      "text/plain": [
       "<Figure size 432x288 with 1 Axes>"
      ]
     },
     "metadata": {
      "needs_background": "light"
     },
     "output_type": "display_data"
    }
   ],
   "source": [
    "df_sd.pivot_table(index=df_sd.index, columns='Sex', values='Rank') \\\n",
    "    .plot(kind='hist', alpha=0.9, stacked=True, title='RANK BY SEX')\n",
    "plt.xticks([1, 2, 3])\n",
    "plt.xlabel('RANK')\n",
    "plt.ylabel('FACULTY')\n",
    "plt.show()"
   ]
  },
  {
   "cell_type": "code",
   "execution_count": 182,
   "metadata": {},
   "outputs": [
    {
     "data": {
      "image/png": "[encoded data removed]",
      "text/plain": [
       "<Figure size 432x288 with 1 Axes>"
      ]
     },
     "metadata": {
      "needs_background": "light"
     },
     "output_type": "display_data"
    }
   ],
   "source": [
    "df_sd.pivot_table(index=df_sd.index, columns='Sex', values='Year') \\\n",
    "    .plot(kind='hist', alpha=0.7, stacked=True, bins=12,\n",
    "          title='YEARS IN RANK BY SEX')\n",
    "plt.xlabel('YEARS')\n",
    "plt.ylabel('FACULTY')\n",
    "plt.show()"
   ]
  },
  {
   "cell_type": "code",
   "execution_count": 183,
   "metadata": {},
   "outputs": [],
   "source": [
    "################################# Comparing Men and Women with Similar Number of Years #####################\n"
   ]
  },
  {
   "cell_type": "code",
   "execution_count": 184,
   "metadata": {},
   "outputs": [],
   "source": [
    "df_sd_10 = df_sd[df_sd['Year'] <= 10]\n"
   ]
  },
  {
   "cell_type": "code",
   "execution_count": 185,
   "metadata": {},
   "outputs": [
    {
     "data": {
      "text/plain": [
       "[(0.7968248819660302, ('Sex', 'Rank', 'Year', 'Degree', 'YSdeg')),\n",
       " (0.7872092866034841, ('Sex', 'Rank', 'Year', 'YSdeg')),\n",
       " (0.7857914167129874, ('Rank', 'Year', 'Degree', 'YSdeg')),\n",
       " (0.7812953737007231, ('Rank', 'Year', 'YSdeg')),\n",
       " (0.7811304025138204, ('Sex', 'Rank', 'Year', 'Degree')),\n",
       " (0.7809344717080977, ('Sex', 'Rank', 'Year')),\n",
       " (0.7783076155381674, ('Rank', 'Year', 'Degree')),\n",
       " (0.778125545829645, ('Rank', 'Year')),\n",
       " (0.7267866959953191, ('Sex', 'Rank', 'Degree', 'YSdeg')),\n",
       " (0.7266289950954575, ('Sex', 'Rank', 'Degree')),\n",
       " (0.7263171650507368, ('Rank', 'Degree', 'YSdeg')),\n",
       " (0.7262952984826756, ('Rank', 'Degree')),\n",
       " (0.7237917566538923, ('Sex', 'Rank', 'YSdeg')),\n",
       " (0.7237599305119999, ('Rank', 'YSdeg')),\n",
       " (0.7224004990910746, ('Sex', 'Rank')),\n",
       " (0.7221603677648398, ('Rank',)),\n",
       " (0.5211388967522838, ('Sex', 'Year', 'Degree', 'YSdeg')),\n",
       " (0.5106317178170395, ('Year', 'Degree', 'YSdeg')),\n",
       " (0.47582422204482033, ('Sex', 'Degree', 'YSdeg')),\n",
       " (0.46515893607776626, ('Sex', 'Year', 'YSdeg')),\n",
       " (0.46069130390981794, ('Year', 'YSdeg')),\n",
       " (0.4448739733320234, ('Degree', 'YSdeg')),\n",
       " (0.4042796870122093, ('Sex', 'YSdeg')),\n",
       " (0.3832919418621781, ('YSdeg',)),\n",
       " (0.3261084635012448, ('Sex', 'Year', 'Degree')),\n",
       " (0.3259882567049549, ('Sex', 'Year')),\n",
       " (0.32547258856854433, ('Year', 'Degree')),\n",
       " (0.32534791979498545, ('Year',)),\n",
       " (0.019252695844517165, ('Sex', 'Degree')),\n",
       " (0.01327225187005543, ('Degree',)),\n",
       " (0.006877700561349731, ('Sex',))]"
      ]
     },
     "execution_count": 185,
     "metadata": {},
     "output_type": "execute_result"
    }
   ],
   "source": [
    "combos_10 = COMBOS(salary_discrim_cols)\n",
    "combo_10_scores = SCORECOMBO_ALL(combos_10, df_sd_10)\n",
    "sorted(combo_10_scores.items(), key=lambda c: c[0], reverse=True)"
   ]
  },
  {
   "cell_type": "code",
   "execution_count": 186,
   "metadata": {},
   "outputs": [
    {
     "data": {
      "image/png": "[encoded data removed]",
      "text/plain": [
       "<Figure size 432x288 with 1 Axes>"
      ]
     },
     "metadata": {
      "needs_background": "light"
     },
     "output_type": "display_data"
    }
   ],
   "source": [
    "df_sd_10.pivot_table(index=df_sd_10.index, columns='Sex', values='Salary') \\\n",
    "    .plot(kind='hist', alpha=0.9, stacked=True, bins=30,\n",
    "          title='SALARY BY SEX, AT MOST 10 YEARS AT CURRENT RANK')\n",
    "plt.xlabel('DOLLARS')\n",
    "plt.ylabel('FACULTY')\n",
    "plt.show()"
   ]
  },
  {
   "cell_type": "code",
   "execution_count": 187,
   "metadata": {},
   "outputs": [
    {
     "data": {
      "image/png": "[encoded data removed]",
      "text/plain": [
       "<Figure size 432x288 with 1 Axes>"
      ]
     },
     "metadata": {
      "needs_background": "light"
     },
     "output_type": "display_data"
    }
   ],
   "source": [
    "df_sd_10.pivot_table(index=df_sd_10.index, columns='Sex', values='Rank') \\\n",
    "    .plot(kind='hist', alpha=0.9, stacked=True, \n",
    "          title='SALARY BY SEX, AT MOST 10 YEARS AT CURRENT RANK')\n",
    "plt.xticks([1,2,3])\n",
    "plt.xlabel('DOLLARS')\n",
    "plt.ylabel('FACULTY')\n",
    "plt.show()"
   ]
  },
  {
   "cell_type": "code",
   "execution_count": 188,
   "metadata": {},
   "outputs": [
    {
     "data": {
      "text/plain": [
       "[(0.6684776318082726, ('Sex', 'Year', 'Degree', 'YSdeg')),\n",
       " (0.6650836168279377, ('Sex', 'Degree', 'YSdeg')),\n",
       " (0.6123237979933464, ('Year', 'Degree', 'YSdeg')),\n",
       " (0.6121040013037699, ('Degree', 'YSdeg')),\n",
       " (0.5169568608935469, ('Sex', 'Year', 'YSdeg')),\n",
       " (0.5169178279759161, ('Sex', 'YSdeg')),\n",
       " (0.4848731472423392, ('Year', 'YSdeg')),\n",
       " (0.48257642674080237, ('YSdeg',)),\n",
       " (0.17754355818252254, ('Sex', 'Year', 'Degree')),\n",
       " (0.17641648396278564, ('Sex', 'Year')),\n",
       " (0.17613062148611913, ('Year', 'Degree')),\n",
       " (0.17502353196257237, ('Year',)),\n",
       " (0.016344674690073613, ('Sex', 'Degree')),\n",
       " (0.013387066889012145, ('Sex',)),\n",
       " (0.0036042103162726713, ('Degree',))]"
      ]
     },
     "execution_count": 188,
     "metadata": {},
     "output_type": "execute_result"
    }
   ],
   "source": [
    "rank_discrim_cols = ['Sex', 'Year', 'Degree', 'YSdeg']\n",
    "combos_rank = COMBOS(rank_discrim_cols)\n",
    "combo_rank_scores = SCORECOMBO_ALL(combos_rank, df_sd_10, 'Rank')\n",
    "sorted(combo_rank_scores.items(), key=lambda c: c[0], reverse=True)"
   ]
  },
  {
   "cell_type": "code",
   "execution_count": 189,
   "metadata": {},
   "outputs": [
    {
     "name": "stdout",
     "output_type": "stream",
     "text": [
      "Task 3 Conclusion: there is no correlation with Sex. There is no salary discrimination by Sex.\n"
     ]
    }
   ],
   "source": [
    "print(\"Task 3 Conclusion: there is no correlation with Sex. There is no salary discrimination by Sex.\")"
   ]
  },
  {
   "cell_type": "code",
   "execution_count": null,
   "metadata": {},
   "outputs": [],
   "source": []
  }
 ],
 "metadata": {
  "kernelspec": {
   "display_name": "Python 3",
   "language": "python",
   "name": "python3"
  },
  "language_info": {
   "codemirror_mode": {
    "name": "ipython",
    "version": 3
   },
   "file_extension": ".py",
   "mimetype": "text/x-python",
   "name": "python",
   "nbconvert_exporter": "python",
   "pygments_lexer": "ipython3",
   "version": "3.8.5"
  }
 },
 "nbformat": 4,
 "nbformat_minor": 4
}
